{
 "cells": [
  {
   "cell_type": "markdown",
   "metadata": {},
   "source": [
    "Zadanie 1. (1pkt) Napisz procedurę szachowica(n,k), która rysuje kwadratową szachownicę, o boku\n",
    "2*n, składającą się z kwadratów o boku k, jak na poniższym rysunku (na którym pokazany jest wynik\n",
    "wywołania szachownica(4,3) )."
   ]
  },
  {
   "cell_type": "code",
   "execution_count": 142,
   "metadata": {},
   "outputs": [
    {
     "name": "stdout",
     "output_type": "stream",
     "text": [
      "     #####     #####     #####     #####     #####\n",
      "     #####     #####     #####     #####     #####\n",
      "     #####     #####     #####     #####     #####\n",
      "#####     #####     #####     #####     #####     \n",
      "#####     #####     #####     #####     #####     \n",
      "#####     #####     #####     #####     #####     \n",
      "     #####     #####     #####     #####     #####\n",
      "     #####     #####     #####     #####     #####\n",
      "     #####     #####     #####     #####     #####\n",
      "#####     #####     #####     #####     #####     \n",
      "#####     #####     #####     #####     #####     \n",
      "#####     #####     #####     #####     #####     \n",
      "     #####     #####     #####     #####     #####\n",
      "     #####     #####     #####     #####     #####\n",
      "     #####     #####     #####     #####     #####\n",
      "#####     #####     #####     #####     #####     \n",
      "#####     #####     #####     #####     #####     \n",
      "#####     #####     #####     #####     #####     \n",
      "     #####     #####     #####     #####     #####\n",
      "     #####     #####     #####     #####     #####\n",
      "     #####     #####     #####     #####     #####\n",
      "#####     #####     #####     #####     #####     \n",
      "#####     #####     #####     #####     #####     \n",
      "#####     #####     #####     #####     #####     \n",
      "     #####     #####     #####     #####     #####\n",
      "     #####     #####     #####     #####     #####\n",
      "     #####     #####     #####     #####     #####\n",
      "#####     #####     #####     #####     #####     \n",
      "#####     #####     #####     #####     #####     \n",
      "#####     #####     #####     #####     #####     \n"
     ]
    }
   ],
   "source": [
    "def szachownica(n, y):\n",
    "   for i in range (n):\n",
    "         for i in range (y):\n",
    "            print((\" \"*n +\"#\"*n)*n)\n",
    "         for i in range (y):\n",
    "            print((\"#\"*n + \" \"*n)*n)\n",
    "  \n",
    "szachownica(5,3)\n"
   ]
  },
  {
   "cell_type": "code",
   "execution_count": 100,
   "metadata": {},
   "outputs": [
    {
     "name": "stdout",
     "output_type": "stream",
     "text": [
      "[[0 1 2]\n",
      " [3 4 5]\n",
      " [6 7 8]]\n",
      " \n",
      "[[0 3 6]\n",
      " [1 4 7]\n",
      " [2 5 8]]\n"
     ]
    }
   ],
   "source": [
    "import numpy \n",
    "\n",
    "A= numpy.arange(9).reshape(3, 3)\n",
    "print(A)\n",
    "print(\" \")\n",
    "B=numpy.transpose(A)\n",
    "print(B)\n",
    "M=A*B\n",
    "\n",
    "\n",
    "\n",
    "\n"
   ]
  },
  {
   "cell_type": "code",
   "execution_count": 177,
   "metadata": {},
   "outputs": [
    {
     "name": "stdout",
     "output_type": "stream",
     "text": [
      "  #    ###  ####   #    ##### \n",
      " ##   #   #     # #     #     \n",
      "  #     ##   ###  ##### ####  \n",
      "  #    #        #   #       # \n",
      " ###  ##### ####    #   ####  \n"
     ]
    }
   ],
   "source": [
    "cyfry = {}\n",
    "\n",
    "cyfry[0] = \"\"\"\n",
    " ###  \n",
    "#   #\n",
    "#   #\n",
    "#   #\n",
    " ###\n",
    "\"\"\"\n",
    "\n",
    "cyfry[1] = \"\"\"\n",
    "  #\n",
    " ##\n",
    "  #\n",
    "  #\n",
    " ###\n",
    "\"\"\"\n",
    "\n",
    "cyfry[4] = \"\"\"\n",
    " # \n",
    "#\n",
    "#####\n",
    "  #\n",
    "  #\n",
    "\"\"\"\n",
    "\n",
    "\n",
    "cyfry[2] = \"\"\"\n",
    " ###  \n",
    "#   #\n",
    "  ##\n",
    " #\n",
    "#####\n",
    "\"\"\"\n",
    "\n",
    "cyfry[5] = \"\"\"\n",
    "##### \n",
    "#   \n",
    "####\n",
    "    #\n",
    "####\n",
    "\"\"\"\n",
    "\n",
    "cyfry[8] = \"\"\"\n",
    " ###  \n",
    "#   #\n",
    " ### \n",
    "#   #\n",
    " ###\n",
    "\"\"\"\n",
    "\n",
    "cyfry[6] = \"\"\"\n",
    " ###  \n",
    "#   \n",
    "#### \n",
    "#   #\n",
    " ###\n",
    "\"\"\"\n",
    "\n",
    "cyfry[9] = \"\"\"\n",
    " ###  \n",
    "#   #\n",
    " ####\n",
    "    #\n",
    " ###\n",
    "\"\"\"\n",
    "\n",
    "cyfry[3] = \"\"\"\n",
    "####  \n",
    "    #\n",
    " ### \n",
    "    #\n",
    "####\n",
    "\"\"\"\n",
    "\n",
    "cyfry[7] = \"\"\"\n",
    "#####\n",
    "   #\n",
    " ###\n",
    " #\n",
    "# \n",
    "\"\"\"\n",
    "\n",
    "pytajnik = \"\"\"\n",
    " ###  \n",
    "#   #\n",
    "  ##\n",
    "   \n",
    "  #\n",
    "\"\"\"\n",
    "\n",
    "def popraw(s):\n",
    "    L = s.split('\\n')\n",
    "    for i in range(len(L)):\n",
    "        if len(L[i]) < 5:\n",
    "            L[i] += (5-len(L[i])) * \" \"\n",
    "        else:\n",
    "            L[i] = L[i][:5]   \n",
    "    return L[1:-1]      \n",
    "\n",
    "def daj_cyfre(n):\n",
    "   if n not in range(10):\n",
    "       return popraw(pytajnik)\n",
    "   return popraw(cyfry[n])\n",
    "\n",
    "def dlc(n):\n",
    "    \n",
    "dlc(12345)\n",
    "\n",
    "//DLC=12345\n",
    "for i in range str(DLC):\n",
    "    for i in range (5):\n",
    "        print(daj_cyfre(4)[i], end=\"\")\n"
   ]
  },
  {
   "cell_type": "code",
   "execution_count": 137,
   "metadata": {},
   "outputs": [
    {
     "name": "stdout",
     "output_type": "stream",
     "text": [
      "\n",
      "  ###\n",
      " #####\n",
      "#######\n",
      "#######\n",
      " #####\n",
      "  ###\n",
      "\n"
     ]
    }
   ],
   "source": [
    "kolo=\"\"\"\n",
    "  ###\n",
    " #####\n",
    "#######\n",
    "#######\n",
    " #####\n",
    "  ###\n",
    "\"\"\"\n",
    "\n",
    "x=kolo.split('\\n')\n",
    "print(\"\\n\".join(x))\n"
   ]
  },
  {
   "cell_type": "code",
   "execution_count": 136,
   "metadata": {},
   "outputs": [
    {
     "ename": "SyntaxError",
     "evalue": "invalid syntax (<ipython-input-136-05115bcf280f>, line 11)",
     "output_type": "error",
     "traceback": [
      "\u001b[1;36m  File \u001b[1;32m\"<ipython-input-136-05115bcf280f>\"\u001b[1;36m, line \u001b[1;32m11\u001b[0m\n\u001b[1;33m    for i in range kolo:\u001b[0m\n\u001b[1;37m                      ^\u001b[0m\n\u001b[1;31mSyntaxError\u001b[0m\u001b[1;31m:\u001b[0m invalid syntax\n"
     ]
    }
   ],
   "source": [
    "\n"
   ]
  },
  {
   "cell_type": "code",
   "execution_count": 160,
   "metadata": {},
   "outputs": [
    {
     "name": "stdout",
     "output_type": "stream",
     "text": [
      "*******\n",
      "**   **\n",
      "* * * *\n",
      "*  *  *\n",
      "* * * *\n",
      "**   **\n",
      "*******\n"
     ]
    }
   ],
   "source": [
    "def koperta(n):\n",
    "    for i in range (n):\n",
    "        for j in range(n):\n",
    "            if i==j or i==0 or i==n-1 or j==0 or j==n-1 or i==(n-j)-1:\n",
    "                print('*', end='')\n",
    "            else:\n",
    "                print(\" \",end=\"\")\n",
    "                \n",
    "        print()\n",
    "\n",
    "koperta(7)\n",
    "        "
   ]
  },
  {
   "cell_type": "code",
   "execution_count": null,
   "metadata": {},
   "outputs": [],
   "source": [
    "def dlc(n):\n",
    "    lista = list(str(n))\n",
    "    for i in range(5):\n",
    "        for j in lista:\n",
    "            cyfra = daj_cyfre(int(j))\n",
    "            print(cyfra[i], end=' ')\n",
    "        print()\n",
    "\n",
    "dlc(12345)"
   ]
  }
 ],
 "metadata": {
  "kernelspec": {
   "display_name": "Python 3",
   "language": "python",
   "name": "python3"
  },
  "language_info": {
   "codemirror_mode": {
    "name": "ipython",
    "version": 3
   },
   "file_extension": ".py",
   "mimetype": "text/x-python",
   "name": "python",
   "nbconvert_exporter": "python",
   "pygments_lexer": "ipython3",
   "version": "3.6.5"
  }
 },
 "nbformat": 4,
 "nbformat_minor": 2
}
