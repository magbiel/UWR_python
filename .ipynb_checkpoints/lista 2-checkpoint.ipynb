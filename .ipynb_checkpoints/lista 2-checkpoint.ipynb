{
 "cells": [
  {
   "cell_type": "markdown",
   "metadata": {},
   "source": [
    "Zadanie 1. (1pkt) Napisz procedurę szachowica(n,k), która rysuje kwadratową szachownicę, o boku\n",
    "2*n, składającą się z kwadratów o boku k, jak na poniższym rysunku (na którym pokazany jest wynik\n",
    "wywołania szachownica(4,3) )."
   ]
  },
  {
   "cell_type": "code",
   "execution_count": 142,
   "metadata": {},
   "outputs": [
    {
     "name": "stdout",
     "output_type": "stream",
     "text": [
      "     #####     #####     #####     #####     #####\n",
      "     #####     #####     #####     #####     #####\n",
      "     #####     #####     #####     #####     #####\n",
      "#####     #####     #####     #####     #####     \n",
      "#####     #####     #####     #####     #####     \n",
      "#####     #####     #####     #####     #####     \n",
      "     #####     #####     #####     #####     #####\n",
      "     #####     #####     #####     #####     #####\n",
      "     #####     #####     #####     #####     #####\n",
      "#####     #####     #####     #####     #####     \n",
      "#####     #####     #####     #####     #####     \n",
      "#####     #####     #####     #####     #####     \n",
      "     #####     #####     #####     #####     #####\n",
      "     #####     #####     #####     #####     #####\n",
      "     #####     #####     #####     #####     #####\n",
      "#####     #####     #####     #####     #####     \n",
      "#####     #####     #####     #####     #####     \n",
      "#####     #####     #####     #####     #####     \n",
      "     #####     #####     #####     #####     #####\n",
      "     #####     #####     #####     #####     #####\n",
      "     #####     #####     #####     #####     #####\n",
      "#####     #####     #####     #####     #####     \n",
      "#####     #####     #####     #####     #####     \n",
      "#####     #####     #####     #####     #####     \n",
      "     #####     #####     #####     #####     #####\n",
      "     #####     #####     #####     #####     #####\n",
      "     #####     #####     #####     #####     #####\n",
      "#####     #####     #####     #####     #####     \n",
      "#####     #####     #####     #####     #####     \n",
      "#####     #####     #####     #####     #####     \n"
     ]
    }
   ],
   "source": [
    "def szachownica(n, y):\n",
    "   for i in range (n):\n",
    "         for i in range (y):\n",
    "            print((\" \"*n +\"#\"*n)*n)\n",
    "         for i in range (y):\n",
    "            print((\"#\"*n + \" \"*n)*n)\n",
    "  \n",
    "szachownica(5,3)\n"
   ]
  },
  {
   "cell_type": "code",
   "execution_count": 100,
   "metadata": {},
   "outputs": [
    {
     "name": "stdout",
     "output_type": "stream",
     "text": [
      "[[0 1 2]\n",
      " [3 4 5]\n",
      " [6 7 8]]\n",
      " \n",
      "[[0 3 6]\n",
      " [1 4 7]\n",
      " [2 5 8]]\n"
     ]
    }
   ],
   "source": [
    "import numpy \n",
    "\n",
    "A= numpy.arange(9).reshape(3, 3)\n",
    "print(A)\n",
    "print(\" \")\n",
    "B=numpy.transpose(A)\n",
    "print(B)\n",
    "\n",
    "\n",
    "\n",
    "\n",
    "\n"
   ]
  },
  {
   "cell_type": "code",
   "execution_count": 140,
   "metadata": {},
   "outputs": [
    {
     "ename": "TypeError",
     "evalue": "object of type 'int' has no len()",
     "output_type": "error",
     "traceback": [
      "\u001b[1;31m---------------------------------------------------------------------------\u001b[0m",
      "\u001b[1;31mTypeError\u001b[0m                                 Traceback (most recent call last)",
      "\u001b[1;32m<ipython-input-140-03ae329feddc>\u001b[0m in \u001b[0;36m<module>\u001b[1;34m()\u001b[0m\n\u001b[0;32m      4\u001b[0m             \u001b[0mprint\u001b[0m\u001b[1;33m(\u001b[0m\u001b[0mn\u001b[0m\u001b[1;33m*\u001b[0m\u001b[1;33m(\u001b[0m\u001b[1;34m\"*\"\u001b[0m\u001b[1;33m)\u001b[0m\u001b[1;33m)\u001b[0m\u001b[1;33m\u001b[0m\u001b[0m\n\u001b[0;32m      5\u001b[0m \u001b[1;33m\u001b[0m\u001b[0m\n\u001b[1;32m----> 6\u001b[1;33m \u001b[0mkoperta\u001b[0m\u001b[1;33m(\u001b[0m\u001b[1;36m9\u001b[0m\u001b[1;33m)\u001b[0m\u001b[1;33m\u001b[0m\u001b[0m\n\u001b[0m\u001b[0;32m      7\u001b[0m \u001b[1;33m\u001b[0m\u001b[0m\n\u001b[0;32m      8\u001b[0m \u001b[1;33m\u001b[0m\u001b[0m\n",
      "\u001b[1;32m<ipython-input-140-03ae329feddc>\u001b[0m in \u001b[0;36mkoperta\u001b[1;34m(n)\u001b[0m\n\u001b[0;32m      1\u001b[0m \u001b[1;32mdef\u001b[0m \u001b[0mkoperta\u001b[0m\u001b[1;33m(\u001b[0m\u001b[0mn\u001b[0m\u001b[1;33m)\u001b[0m\u001b[1;33m:\u001b[0m\u001b[1;33m\u001b[0m\u001b[0m\n\u001b[0;32m      2\u001b[0m     \u001b[1;32mfor\u001b[0m \u001b[0mi\u001b[0m \u001b[1;32min\u001b[0m \u001b[0mrange\u001b[0m \u001b[1;33m(\u001b[0m\u001b[0mn\u001b[0m\u001b[1;33m)\u001b[0m\u001b[1;33m:\u001b[0m\u001b[1;33m\u001b[0m\u001b[0m\n\u001b[1;32m----> 3\u001b[1;33m         \u001b[1;32mif\u001b[0m \u001b[0mlen\u001b[0m\u001b[1;33m(\u001b[0m\u001b[0mi\u001b[0m\u001b[1;33m)\u001b[0m\u001b[1;33m>\u001b[0m\u001b[0mn\u001b[0m\u001b[1;33m:\u001b[0m\u001b[1;33m\u001b[0m\u001b[0m\n\u001b[0m\u001b[0;32m      4\u001b[0m             \u001b[0mprint\u001b[0m\u001b[1;33m(\u001b[0m\u001b[0mn\u001b[0m\u001b[1;33m*\u001b[0m\u001b[1;33m(\u001b[0m\u001b[1;34m\"*\"\u001b[0m\u001b[1;33m)\u001b[0m\u001b[1;33m)\u001b[0m\u001b[1;33m\u001b[0m\u001b[0m\n\u001b[0;32m      5\u001b[0m \u001b[1;33m\u001b[0m\u001b[0m\n",
      "\u001b[1;31mTypeError\u001b[0m: object of type 'int' has no len()"
     ]
    }
   ],
   "source": [
    "def koperta(n):\n",
    "    for i in range (n):\n",
    "        for j in range(n):\n",
    "            print('*')\n",
    "\n",
    "koperta(3)\n",
    "        \n",
    "        \n",
    "\n"
   ]
  },
  {
   "cell_type": "code",
   "execution_count": 139,
   "metadata": {},
   "outputs": [
    {
     "data": {
      "text/plain": [
       "[' #   ', '#    ', '#####', '  #  ', '  #  ']"
      ]
     },
     "execution_count": 139,
     "metadata": {},
     "output_type": "execute_result"
    }
   ],
   "source": [
    "cyfry = {}\n",
    "\n",
    "cyfry[0] = \"\"\"\n",
    " ###  \n",
    "#   #\n",
    "#   #\n",
    "#   #\n",
    " ###\n",
    "\"\"\"\n",
    "\n",
    "cyfry[1] = \"\"\"\n",
    "  #\n",
    " ##\n",
    "  #\n",
    "  #\n",
    " ###\n",
    "\"\"\"\n",
    "\n",
    "cyfry[4] = \"\"\"\n",
    " # \n",
    "#\n",
    "#####\n",
    "  #\n",
    "  #\n",
    "\"\"\"\n",
    "\n",
    "\n",
    "cyfry[2] = \"\"\"\n",
    " ###  \n",
    "#   #\n",
    "  ##\n",
    " #\n",
    "#####\n",
    "\"\"\"\n",
    "\n",
    "cyfry[5] = \"\"\"\n",
    "##### \n",
    "#   \n",
    "####\n",
    "    #\n",
    "####\n",
    "\"\"\"\n",
    "\n",
    "cyfry[8] = \"\"\"\n",
    " ###  \n",
    "#   #\n",
    " ### \n",
    "#   #\n",
    " ###\n",
    "\"\"\"\n",
    "\n",
    "cyfry[6] = \"\"\"\n",
    " ###  \n",
    "#   \n",
    "#### \n",
    "#   #\n",
    " ###\n",
    "\"\"\"\n",
    "\n",
    "cyfry[9] = \"\"\"\n",
    " ###  \n",
    "#   #\n",
    " ####\n",
    "    #\n",
    " ###\n",
    "\"\"\"\n",
    "\n",
    "cyfry[3] = \"\"\"\n",
    "####  \n",
    "    #\n",
    " ### \n",
    "    #\n",
    "####\n",
    "\"\"\"\n",
    "\n",
    "cyfry[7] = \"\"\"\n",
    "#####\n",
    "   #\n",
    " ###\n",
    " #\n",
    "# \n",
    "\"\"\"\n",
    "\n",
    "pytajnik = \"\"\"\n",
    " ###  \n",
    "#   #\n",
    "  ##\n",
    "   \n",
    "  #\n",
    "\"\"\"\n",
    "\n",
    "def popraw(s):\n",
    "    L = s.split('\\n')\n",
    "    for i in range(len(L)):\n",
    "        if len(L[i]) < 5:\n",
    "            L[i] += (5-len(L[i])) * \" \"\n",
    "        else:\n",
    "            L[i] = L[i][:5]   \n",
    "    return L[1:-1]      \n",
    "\n",
    "def daj_cyfre(n):\n",
    "   if n not in range(10):\n",
    "       return popraw(pytajnik)\n",
    "   return popraw(cyfry[n])\n",
    "\n",
    "daj_cyfre(4)"
   ]
  },
  {
   "cell_type": "code",
   "execution_count": 137,
   "metadata": {},
   "outputs": [
    {
     "name": "stdout",
     "output_type": "stream",
     "text": [
      "\n",
      "  ###\n",
      " #####\n",
      "#######\n",
      "#######\n",
      " #####\n",
      "  ###\n",
      "\n"
     ]
    }
   ],
   "source": [
    "kolo=\"\"\"\n",
    "  ###\n",
    " #####\n",
    "#######\n",
    "#######\n",
    " #####\n",
    "  ###\n",
    "\"\"\"\n",
    "\n",
    "x=kolo.split('\\n')\n",
    "print(\"\\n\".join(x))\n"
   ]
  },
  {
   "cell_type": "code",
   "execution_count": 136,
   "metadata": {},
   "outputs": [
    {
     "ename": "SyntaxError",
     "evalue": "invalid syntax (<ipython-input-136-05115bcf280f>, line 11)",
     "output_type": "error",
     "traceback": [
      "\u001b[1;36m  File \u001b[1;32m\"<ipython-input-136-05115bcf280f>\"\u001b[1;36m, line \u001b[1;32m11\u001b[0m\n\u001b[1;33m    for i in range kolo:\u001b[0m\n\u001b[1;37m                      ^\u001b[0m\n\u001b[1;31mSyntaxError\u001b[0m\u001b[1;31m:\u001b[0m invalid syntax\n"
     ]
    }
   ],
   "source": [
    "kolo=\"\"\"\n",
    "  ###\n",
    " #####\n",
    "#######\n",
    "#######\n",
    " #####\n",
    "  ###\n",
    "\"\"\"\n",
    "\n",
    "for i in range (3):\n",
    "    for i in range kolo:\n",
    "        x=kolo.split('\\n')\n",
    "        print(\"\\n\".join(x))\n",
    "    x+=\"##\"\n",
    "    \n",
    "    \n"
   ]
  },
  {
   "cell_type": "code",
   "execution_count": null,
   "metadata": {},
   "outputs": [],
   "source": []
  }
 ],
 "metadata": {
  "kernelspec": {
   "display_name": "Python 3",
   "language": "python",
   "name": "python3"
  },
  "language_info": {
   "codemirror_mode": {
    "name": "ipython",
    "version": 3
   },
   "file_extension": ".py",
   "mimetype": "text/x-python",
   "name": "python",
   "nbconvert_exporter": "python",
   "pygments_lexer": "ipython3",
   "version": "3.6.5"
  }
 },
 "nbformat": 4,
 "nbformat_minor": 2
}
