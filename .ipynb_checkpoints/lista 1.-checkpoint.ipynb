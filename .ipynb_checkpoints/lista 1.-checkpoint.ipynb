{
 "cells": [
  {
   "cell_type": "markdown",
   "metadata": {},
   "source": [
    "ZADANIE 1."
   ]
  },
  {
   "cell_type": "code",
   "execution_count": 296,
   "metadata": {},
   "outputs": [
    {
     "name": "stdout",
     "output_type": "stream",
     "text": [
      "Przebieg: 0\n",
      "--------------------\n",
      "***\n",
      "***\n",
      "***\n",
      "\n",
      "Przebieg: 1\n",
      "--------------------\n",
      "*****\n",
      "*****\n",
      "*****\n",
      "*****\n",
      "*****\n",
      "\n",
      "Przebieg: 2\n",
      "--------------------\n",
      "*******\n",
      "*******\n",
      "*******\n",
      "*******\n",
      "*******\n",
      "*******\n",
      "*******\n",
      "\n",
      "Przebieg: 3\n",
      "--------------------\n",
      "*********\n",
      "*********\n",
      "*********\n",
      "*********\n",
      "*********\n",
      "*********\n",
      "*********\n",
      "*********\n",
      "*********\n",
      "\n",
      "Przebieg: 4\n",
      "--------------------\n",
      "***********\n",
      "***********\n",
      "***********\n",
      "***********\n",
      "***********\n",
      "***********\n",
      "***********\n",
      "***********\n",
      "***********\n",
      "***********\n",
      "***********\n",
      "\n",
      "Przebieg: 5\n",
      "--------------------\n",
      "###\n",
      "###\n",
      "###\n",
      "\n",
      "Przebieg: 6\n",
      "--------------------\n",
      "####\n",
      "####\n",
      "####\n",
      "####\n",
      "\n",
      "Przebieg: 7\n",
      "--------------------\n",
      "#####\n",
      "#####\n",
      "#####\n",
      "#####\n",
      "#####\n",
      "\n",
      "Przebieg: 8\n",
      "--------------------\n",
      "######\n",
      "######\n",
      "######\n",
      "######\n",
      "######\n",
      "######\n",
      "\n"
     ]
    }
   ],
   "source": [
    "def potega(a,n):\n",
    "   wynik = 1  # zmienna lokalna\n",
    "   for i in range(n):\n",
    "      wynik = wynik * a   # albo: wynik *= a\n",
    "   return wynik\n",
    "   \n",
    "def kwadrat(n):\n",
    "   for i in range(n):\n",
    "      for j in range(n):   # pętla w pętli\n",
    "         print (\"*\", end=\"\")\n",
    "      print()\n",
    "      \n",
    "def kwadrat2(n):\n",
    "   for i in range(n):\n",
    "      print (n * \"#\")      \n",
    "  \n",
    "# wcześniej były definicje, poniżej jest część która się wykonuje\n",
    "\n",
    "\n",
    "for i in range(9):\n",
    "   print (\"Przebieg:\",i)\n",
    "   print (20 * \"-\")\n",
    "   if i<5:   # parzysta\n",
    "      kwadrat(3+2*i)\n",
    "   else:  # czyli nieparzysta\n",
    "      kwadrat2(i-2)\n",
    "   print()    # pusty wiersz   "
   ]
  },
  {
   "cell_type": "code",
   "execution_count": 222,
   "metadata": {},
   "outputs": [
    {
     "name": "stdout",
     "output_type": "stream",
     "text": [
      "*\n",
      "**\n",
      "***\n",
      "****\n",
      "*****\n",
      "******\n",
      "*******\n",
      "********\n",
      "*********\n",
      "**********\n",
      "***********\n",
      "**********\n",
      "*********\n",
      "********\n",
      "*******\n",
      "******\n",
      "*****\n",
      "****\n",
      "***\n",
      "**\n"
     ]
    }
   ],
   "source": [
    "for x in range(10):\n",
    "    print (\"*\"+ \"*\"*x)\n",
    "    \n",
    "for y in range(10):\n",
    "    print(\"*\"+\"*\"*(10-y))\n",
    "    \n"
   ]
  },
  {
   "cell_type": "code",
   "execution_count": 223,
   "metadata": {},
   "outputs": [
    {
     "name": "stdout",
     "output_type": "stream",
     "text": [
      "****\n",
      "****\n",
      "****\n",
      "****\n",
      "None\n"
     ]
    }
   ],
   "source": [
    "n=4\n",
    "def kwadrat():\n",
    "    for x in range(n):\n",
    "        print (\"*\"*n) \n",
    "print(kwadrat())"
   ]
  },
  {
   "cell_type": "code",
   "execution_count": 281,
   "metadata": {},
   "outputs": [
    {
     "name": "stdout",
     "output_type": "stream",
     "text": [
      "   ***\n",
      "   ***\n",
      "   ***\n",
      "*********\n",
      "*********\n",
      "*********\n",
      "   ***\n",
      "   ***\n",
      "   ***\n"
     ]
    }
   ],
   "source": [
    "def krzyzyk(n):\n",
    "    for i in range (n):\n",
    "        print(\" \"*n +\"*\"*n)\n",
    "    for i in range (n):\n",
    "        print(\"*\"*3*n)\n",
    "    for i in range (n):\n",
    "        print(\" \"*n +\"*\"*n)\n",
    "        \n",
    "krzyzyk(3)"
   ]
  },
  {
   "cell_type": "code",
   "execution_count": 293,
   "metadata": {},
   "outputs": [
    {
     "name": "stdout",
     "output_type": "stream",
     "text": [
      "cztesiu\n",
      "rozacza\n",
      "jeczady\n",
      "wszerzy\n",
      "wuwapra\n",
      "bufrazi\n",
      "razyciu\n",
      "purofra\n",
      "dabrepu\n",
      "cnykila\n"
     ]
    }
   ],
   "source": [
    "from random import choice\n",
    "\n",
    "Fragmenty = \"sia je ta da pra wie nie ce ca be ba bu ko rolo waje wsie fija kura kika fra fiu fu ra ro chry kawa kwa waka tra cny dze rze rzy grzy wsze ja na ma kre dy pu pi bi gra fra dro kila laki juki fika miki fiki we wa wu ku ka ra cza cze czu czte siu by bry bre bru  gi gida gafa fago zy za zi zie zimy cima cia ciu dziu\".split()\n",
    "\n",
    "def losuj_fragment():\n",
    "   return choice(Fragmenty)\n",
    "\n",
    "def losuj_haslo(ile):\n",
    "    while len(losuj_fragment())==ile:\n",
    "        for i in range(1,11):\n",
    "            print(losuj_fragment())   #dlaczego nie losuje tylko tych co równe ile ??\n",
    "\n",
    "def losuj_haslo(ile):\n",
    "    wynik = ''\n",
    "    while len(wynik)<ile:\n",
    "        fragment = losuj_fragment()\n",
    "        if len(wynik)+len(fragment) > ile:\n",
    "            continue\n",
    "        if len(wynik)+len(fragment) == ile-1:\n",
    "            continue\n",
    "        wynik= wynik + fragment\n",
    "    return wynik\n",
    "\n",
    "for i in range(10):\n",
    "    print(losuj_haslo(7))\n",
    "\n"
   ]
  },
  {
   "cell_type": "code",
   "execution_count": 319,
   "metadata": {},
   "outputs": [
    {
     "ename": "IndexError",
     "evalue": "string index out of range",
     "output_type": "error",
     "traceback": [
      "\u001b[1;31m---------------------------------------------------------------------------\u001b[0m",
      "\u001b[1;31mIndexError\u001b[0m                                Traceback (most recent call last)",
      "\u001b[1;32m<ipython-input-319-901c33f8e353>\u001b[0m in \u001b[0;36m<module>\u001b[1;34m()\u001b[0m\n\u001b[0;32m      7\u001b[0m \u001b[1;32mfor\u001b[0m \u001b[0mi\u001b[0m \u001b[1;32min\u001b[0m \u001b[0mrange\u001b[0m \u001b[1;33m(\u001b[0m\u001b[1;36m4\u001b[0m\u001b[1;33m,\u001b[0m\u001b[1;36m100\u001b[0m\u001b[1;33m)\u001b[0m\u001b[1;33m:\u001b[0m\u001b[1;33m\u001b[0m\u001b[0m\n\u001b[0;32m      8\u001b[0m     \u001b[0mcyfry\u001b[0m\u001b[1;33m=\u001b[0m\u001b[0mlen\u001b[0m\u001b[1;33m(\u001b[0m\u001b[0mstr\u001b[0m\u001b[1;33m(\u001b[0m\u001b[0msilnia\u001b[0m\u001b[1;33m(\u001b[0m\u001b[0mi\u001b[0m\u001b[1;33m)\u001b[0m\u001b[1;33m)\u001b[0m\u001b[1;33m)\u001b[0m\u001b[1;33m\u001b[0m\u001b[0m\n\u001b[1;32m----> 9\u001b[1;33m     \u001b[1;32mif\u001b[0m \u001b[0mcyfry\u001b[0m \u001b[1;33m%\u001b[0m\u001b[1;36m10\u001b[0m \u001b[1;32min\u001b[0m \u001b[1;33m[\u001b[0m\u001b[1;36m2\u001b[0m\u001b[1;33m,\u001b[0m\u001b[1;36m3\u001b[0m\u001b[1;33m,\u001b[0m\u001b[1;36m4\u001b[0m\u001b[1;33m]\u001b[0m \u001b[1;32mand\u001b[0m \u001b[0mstr\u001b[0m\u001b[1;33m(\u001b[0m\u001b[0mcyfry\u001b[0m\u001b[1;33m)\u001b[0m\u001b[1;33m[\u001b[0m\u001b[1;33m-\u001b[0m\u001b[1;36m2\u001b[0m\u001b[1;33m]\u001b[0m\u001b[1;33m!=\u001b[0m\u001b[1;36m1\u001b[0m\u001b[1;33m:\u001b[0m\u001b[1;33m\u001b[0m\u001b[0m\n\u001b[0m\u001b[0;32m     10\u001b[0m         \u001b[0mprint\u001b[0m\u001b[1;33m(\u001b[0m\u001b[0mstr\u001b[0m\u001b[1;33m(\u001b[0m\u001b[0mi\u001b[0m\u001b[1;33m)\u001b[0m\u001b[1;33m+\u001b[0m\u001b[1;34m\"! ma \"\u001b[0m\u001b[1;33m+\u001b[0m\u001b[0mstr\u001b[0m\u001b[1;33m(\u001b[0m\u001b[0mlen\u001b[0m\u001b[1;33m(\u001b[0m\u001b[0mstr\u001b[0m\u001b[1;33m(\u001b[0m\u001b[0msilnia\u001b[0m\u001b[1;33m(\u001b[0m\u001b[0mi\u001b[0m\u001b[1;33m)\u001b[0m\u001b[1;33m)\u001b[0m\u001b[1;33m)\u001b[0m\u001b[1;33m)\u001b[0m\u001b[1;33m+\u001b[0m\u001b[1;34m\" cyfry\"\u001b[0m\u001b[1;33m)\u001b[0m\u001b[1;33m\u001b[0m\u001b[0m\n\u001b[0;32m     11\u001b[0m     \u001b[1;32melse\u001b[0m\u001b[1;33m:\u001b[0m\u001b[1;33m\u001b[0m\u001b[0m\n",
      "\u001b[1;31mIndexError\u001b[0m: string index out of range"
     ]
    }
   ],
   "source": [
    "def silnia(n):\n",
    "    wynik= 1\n",
    "    for i in range (1, n+1):\n",
    "        wynik= wynik * i\n",
    "    return wynik\n",
    "\n",
    "for i in range (4,100):\n",
    "    cyfry=len(str(silnia(i)))\n",
    "    if cyfry %10 in [2,3,4] and str(cyfry)[-2]!=1:\n",
    "        print(str(i)+\"! ma \"+str(len(str(silnia(i))))+\" cyfry\")\n",
    "    else: \n",
    "        print(str(i)+\"! ma \"+str(len(str(silnia(i))))+\" cyfr\")\n",
    "    \n",
    "    \n"
   ]
  },
  {
   "cell_type": "code",
   "execution_count": null,
   "metadata": {},
   "outputs": [],
   "source": []
  }
 ],
 "metadata": {
  "kernelspec": {
   "display_name": "Python 3",
   "language": "python",
   "name": "python3"
  },
  "language_info": {
   "codemirror_mode": {
    "name": "ipython",
    "version": 3
   },
   "file_extension": ".py",
   "mimetype": "text/x-python",
   "name": "python",
   "nbconvert_exporter": "python",
   "pygments_lexer": "ipython3",
   "version": "3.6.5"
  }
 },
 "nbformat": 4,
 "nbformat_minor": 2
}
